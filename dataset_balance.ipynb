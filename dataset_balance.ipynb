{
 "cells": [
  {
   "cell_type": "code",
   "execution_count": null,
   "metadata": {},
   "outputs": [],
   "source": [
    "import os\n",
    "import pathlib\n",
    "import numpy as np\n",
    "import matplotlib.pyplot as plt\n",
    "import tensorflow as tf; print('Tensorflow version:',tf.__version__)"
   ]
  },
  {
   "cell_type": "code",
   "execution_count": null,
   "metadata": {},
   "outputs": [],
   "source": [
    "print('Available devices:', tf.config.list_physical_devices())\n",
    "\n",
    "gpus = tf.config.experimental.list_physical_devices('GPU')\n",
    "if gpus:\n",
    "    tf.config.experimental.set_virtual_device_configuration(\n",
    "        gpus[0],[tf.config.experimental.VirtualDeviceConfiguration(memory_limit=3*1024)]\n",
    "    )"
   ]
  },
  {
   "cell_type": "code",
   "execution_count": null,
   "metadata": {
    "colab": {
     "base_uri": "https://localhost:8080/"
    },
    "executionInfo": {
     "elapsed": 4618,
     "status": "ok",
     "timestamp": 1635351012644,
     "user": {
      "displayName": "Alexandre Monteiro Ribeiro",
      "photoUrl": "https://lh3.googleusercontent.com/a/default-user=s64",
      "userId": "08485424852861072640"
     },
     "user_tz": 180
    },
    "id": "mOWt1owra73r",
    "outputId": "8d91eda7-8477-4d18-b1ca-1e3d2a4925df"
   },
   "outputs": [],
   "source": [
    "DIRECTORY = 'dataset'\n",
    "IMAGE_SIZE = (224, 224)\n",
    "IMAGE_SHAPE = IMAGE_SIZE + (3,)\n",
    "BATCH_SIZE = 16\n",
    "COLOR_MODE='grayscale'\n",
    "\n",
    "dataset = tf.keras.preprocessing.image_dataset_from_directory(\n",
    "      directory=DIRECTORY\n",
    "    , image_size=IMAGE_SIZE\n",
    "    , batch_size=BATCH_SIZE    \n",
    "    , color_mode=COLOR_MODE\n",
    "    #, validation_split=0.0\n",
    "    #, subset=\"training\"\n",
    "    , seed=123\n",
    ")"
   ]
  },
  {
   "cell_type": "code",
   "execution_count": null,
   "metadata": {},
   "outputs": [],
   "source": [
    "Labels = [0]*8\n",
    "Images = {}\n",
    "for images, labels in dataset:\n",
    "    for image, label in zip(images, labels):\n",
    "        label = int(label)\n",
    "        Labels[label] += 1  \n",
    "        if ( label in Images ):\n",
    "            if  ( len(Images[label]) < 20 ):\n",
    "                Images[label].append(image)\n",
    "        else:\n",
    "            Images[label] = []\n",
    "            Images[label].append(image)\n",
    "class_names = dataset.class_names\n",
    "print(' '.join( ['{:<12}'.format(el) for el in class_names] ))\n",
    "print(' '.join( ['{:<12}'.format(el) for el in Labels] ))"
   ]
  },
  {
   "cell_type": "code",
   "execution_count": null,
   "metadata": {
    "colab": {
     "base_uri": "https://localhost:8080/",
     "height": 545
    },
    "executionInfo": {
     "elapsed": 5568,
     "status": "ok",
     "timestamp": 1635351019650,
     "user": {
      "displayName": "Alexandre Monteiro Ribeiro",
      "photoUrl": "https://lh3.googleusercontent.com/a/default-user=s64",
      "userId": "08485424852861072640"
     },
     "user_tz": 180
    },
    "id": "tTFxIdwLdXsN",
    "outputId": "232c3c45-b478-4f23-dbb5-6895eab110ba"
   },
   "outputs": [],
   "source": [
    "# for label in Images:\n",
    "#     images = Images[label]\n",
    "#     class_name = class_names[label]\n",
    "#     f, axs = plt.subplots(2, 10, figsize=(25, 4))\n",
    "#     axs = axs.reshape(-1)\n",
    "#     f.suptitle(class_name.upper())\n",
    "#     for i, image in enumerate(images):\n",
    "#         ax = plt.subplot(2, 10, i + 1)\n",
    "#         axs[i].imshow(image.numpy().astype(\"uint8\"), cmap='gray')\n",
    "#         #axs[i].suptitle(class_names[label], y=-0.20)\n",
    "#         axs[i].axis(\"off\")    "
   ]
  },
  {
   "cell_type": "code",
   "execution_count": null,
   "metadata": {
    "executionInfo": {
     "elapsed": 4,
     "status": "ok",
     "timestamp": 1635351019651,
     "user": {
      "displayName": "Alexandre Monteiro Ribeiro",
      "photoUrl": "https://lh3.googleusercontent.com/a/default-user=s64",
      "userId": "08485424852861072640"
     },
     "user_tz": 180
    },
    "id": "JiYDr9cFdi9V"
   },
   "outputs": [],
   "source": [
    "AUTOTUNE = tf.data.AUTOTUNE\n",
    "\n",
    "dataset = dataset.prefetch(buffer_size=AUTOTUNE)\n",
    "\n",
    "# Use data augmentation\n",
    "ZOOM = (0.0, -0.2)\n",
    "data_augmentation = tf.keras.Sequential(\n",
    "    [\n",
    "          tf.keras.layers.experimental.preprocessing.RandomFlip(\"horizontal\")\n",
    "        , tf.keras.layers.experimental.preprocessing.RandomRotation(factor=0.05, fill_mode='nearest')\n",
    "        , tf.keras.layers.experimental.preprocessing.RandomZoom(height_factor=ZOOM, width_factor=ZOOM)\n",
    "    ]\n",
    ")"
   ]
  },
  {
   "cell_type": "code",
   "execution_count": null,
   "metadata": {},
   "outputs": [],
   "source": [
    "import pathlib\n",
    "\n",
    "classNames  = ['anger', 'contempt', 'disgust', 'fear', 'happiness', 'neutrality', 'sadness', 'surprise']\n",
    "root = 'dataset_augmented'\n",
    "pathlib.Path(root).mkdir(exist_ok=True)\n",
    "for class_name in class_names:\n",
    "  pathlib.Path(f'{root}/{class_name}').mkdir(exist_ok=True)\n",
    "\n",
    "images_max  = max(Labels)\n",
    "images_left = [images_max - qty for qty in Labels]"
   ]
  },
  {
   "cell_type": "code",
   "execution_count": null,
   "metadata": {},
   "outputs": [],
   "source": [
    "while any(images_left): \n",
    "  for images, labels in dataset:\n",
    "    if any(images_left):\n",
    "      for image, label in zip(images, labels):\n",
    "        if images_left[label]:\n",
    "          images_left[label] -= 1\n",
    "          augmented_image = data_augmentation(tf.expand_dims(image, 0))\n",
    "          formatted_image = augmented_image[0].numpy()\n",
    "          tf.keras.utils.save_img(f'{root}/{classNames[label]}/augmented_{images_left[label]}.jpg', formatted_image)\n",
    "          plt.imshow(formatted_image.squeeze(), cmap='gray')\n",
    "    else:\n",
    "      break\n",
    "\n",
    "# import shutil\n",
    "# shutil.make_archive(f'{root}', 'zip', root)\n"
   ]
  },
  {
   "cell_type": "code",
   "execution_count": null,
   "metadata": {},
   "outputs": [],
   "source": []
  }
 ],
 "metadata": {
  "accelerator": "GPU",
  "colab": {
   "collapsed_sections": [],
   "name": "transfer_learning_v3small.ipynb",
   "provenance": [
    {
     "file_id": "https://github.com/tensorflow/docs/blob/master/site/en/tutorials/images/transfer_learning.ipynb",
     "timestamp": 1619802747894
    }
   ]
  },
  "kernelspec": {
   "display_name": "Python 3 (ipykernel)",
   "language": "python",
   "name": "python3"
  },
  "language_info": {
   "codemirror_mode": {
    "name": "ipython",
    "version": 3
   },
   "file_extension": ".py",
   "mimetype": "text/x-python",
   "name": "python",
   "nbconvert_exporter": "python",
   "pygments_lexer": "ipython3",
   "version": "3.8.13"
  }
 },
 "nbformat": 4,
 "nbformat_minor": 4
}
