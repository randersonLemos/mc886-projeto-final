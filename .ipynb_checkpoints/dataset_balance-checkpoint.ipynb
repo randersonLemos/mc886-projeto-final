{
 "cells": [
  {
   "cell_type": "code",
   "execution_count": 1,
   "metadata": {},
   "outputs": [
    {
     "name": "stdout",
     "output_type": "stream",
     "text": [
      "Tensorflow version: 2.8.1\n"
     ]
    }
   ],
   "source": [
    "import os\n",
    "import pathlib\n",
    "import numpy as np\n",
    "import matplotlib.pyplot as plt\n",
    "import tensorflow as tf; print('Tensorflow version:',tf.__version__)"
   ]
  },
  {
   "cell_type": "code",
   "execution_count": 2,
   "metadata": {},
   "outputs": [
    {
     "name": "stdout",
     "output_type": "stream",
     "text": [
      "Available devices: [PhysicalDevice(name='/physical_device:CPU:0', device_type='CPU'), PhysicalDevice(name='/physical_device:GPU:0', device_type='GPU')]\n"
     ]
    },
    {
     "name": "stderr",
     "output_type": "stream",
     "text": [
      "2022-11-16 17:05:27.359107: I tensorflow/stream_executor/cuda/cuda_gpu_executor.cc:936] successful NUMA node read from SysFS had negative value (-1), but there must be at least one NUMA node, so returning NUMA node zero\n",
      "2022-11-16 17:05:27.399438: I tensorflow/stream_executor/cuda/cuda_gpu_executor.cc:936] successful NUMA node read from SysFS had negative value (-1), but there must be at least one NUMA node, so returning NUMA node zero\n",
      "2022-11-16 17:05:27.399658: I tensorflow/stream_executor/cuda/cuda_gpu_executor.cc:936] successful NUMA node read from SysFS had negative value (-1), but there must be at least one NUMA node, so returning NUMA node zero\n"
     ]
    }
   ],
   "source": [
    "print('Available devices:', tf.config.list_physical_devices())\n",
    "\n",
    "# gpus = tf.config.experimental.list_physical_devices('GPU')\n",
    "# if gpus:\n",
    "#     tf.config.experimental.set_virtual_device_configuration(\n",
    "#         gpus[0],[tf.config.experimental.VirtualDeviceConfiguration(memory_limit=3*1024)]\n",
    "#     )"
   ]
  },
  {
   "cell_type": "code",
   "execution_count": 3,
   "metadata": {
    "colab": {
     "base_uri": "https://localhost:8080/"
    },
    "executionInfo": {
     "elapsed": 4618,
     "status": "ok",
     "timestamp": 1635351012644,
     "user": {
      "displayName": "Alexandre Monteiro Ribeiro",
      "photoUrl": "https://lh3.googleusercontent.com/a/default-user=s64",
      "userId": "08485424852861072640"
     },
     "user_tz": 180
    },
    "id": "mOWt1owra73r",
    "outputId": "8d91eda7-8477-4d18-b1ca-1e3d2a4925df"
   },
   "outputs": [
    {
     "name": "stdout",
     "output_type": "stream",
     "text": [
      "Found 5481 files belonging to 8 classes.\n"
     ]
    },
    {
     "name": "stderr",
     "output_type": "stream",
     "text": [
      "2022-11-16 17:05:28.718597: I tensorflow/core/platform/cpu_feature_guard.cc:151] This TensorFlow binary is optimized with oneAPI Deep Neural Network Library (oneDNN) to use the following CPU instructions in performance-critical operations:  SSE4.1 SSE4.2 AVX AVX2 FMA\n",
      "To enable them in other operations, rebuild TensorFlow with the appropriate compiler flags.\n",
      "2022-11-16 17:05:28.719005: I tensorflow/stream_executor/cuda/cuda_gpu_executor.cc:936] successful NUMA node read from SysFS had negative value (-1), but there must be at least one NUMA node, so returning NUMA node zero\n",
      "2022-11-16 17:05:28.719200: I tensorflow/stream_executor/cuda/cuda_gpu_executor.cc:936] successful NUMA node read from SysFS had negative value (-1), but there must be at least one NUMA node, so returning NUMA node zero\n",
      "2022-11-16 17:05:28.719346: I tensorflow/stream_executor/cuda/cuda_gpu_executor.cc:936] successful NUMA node read from SysFS had negative value (-1), but there must be at least one NUMA node, so returning NUMA node zero\n",
      "2022-11-16 17:05:29.307452: I tensorflow/stream_executor/cuda/cuda_gpu_executor.cc:936] successful NUMA node read from SysFS had negative value (-1), but there must be at least one NUMA node, so returning NUMA node zero\n",
      "2022-11-16 17:05:29.307672: I tensorflow/stream_executor/cuda/cuda_gpu_executor.cc:936] successful NUMA node read from SysFS had negative value (-1), but there must be at least one NUMA node, so returning NUMA node zero\n",
      "2022-11-16 17:05:29.307842: I tensorflow/stream_executor/cuda/cuda_gpu_executor.cc:936] successful NUMA node read from SysFS had negative value (-1), but there must be at least one NUMA node, so returning NUMA node zero\n",
      "2022-11-16 17:05:29.307975: I tensorflow/core/common_runtime/gpu/gpu_device.cc:1525] Created device /job:localhost/replica:0/task:0/device:GPU:0 with 3072 MB memory:  -> device: 0, name: NVIDIA GeForce MX150, pci bus id: 0000:01:00.0, compute capability: 6.1\n"
     ]
    }
   ],
   "source": [
    "DIRECTORY = 'dataset'\n",
    "IMAGE_SIZE = (224, 224)\n",
    "IMAGE_SHAPE = IMAGE_SIZE + (3,)\n",
    "COLOR_MODE='grayscale'\n",
    "\n",
    "dataset = tf.keras.preprocessing.image_dataset_from_directory(\n",
    "      directory=DIRECTORY\n",
    "    , image_size=IMAGE_SIZE\n",
    "    , seed=123\n",
    ")"
   ]
  },
  {
   "cell_type": "code",
   "execution_count": 4,
   "metadata": {
    "tags": []
   },
   "outputs": [
    {
     "name": "stderr",
     "output_type": "stream",
     "text": [
      "2022-11-16 17:05:45.358144: W tensorflow/core/common_runtime/bfc_allocator.cc:462] Allocator (GPU_0_bfc) ran out of memory trying to allocate 18.38MiB (rounded to 19267584)requested by op StridedSlice\n",
      "If the cause is memory fragmentation maybe the environment variable 'TF_GPU_ALLOCATOR=cuda_malloc_async' will improve the situation. \n",
      "Current allocation summary follows.\n",
      "Current allocation summary follows.\n",
      "2022-11-16 17:05:45.358238: I tensorflow/core/common_runtime/bfc_allocator.cc:1010] BFCAllocator dump for GPU_0_bfc\n",
      "2022-11-16 17:05:45.358281: I tensorflow/core/common_runtime/bfc_allocator.cc:1017] Bin (256): \tTotal Chunks: 9, Chunks in use: 9. 2.2KiB allocated for chunks. 2.2KiB in use in bin. 65B client-requested in use in bin.\n",
      "2022-11-16 17:05:45.358309: I tensorflow/core/common_runtime/bfc_allocator.cc:1017] Bin (512): \tTotal Chunks: 0, Chunks in use: 0. 0B allocated for chunks. 0B in use in bin. 0B client-requested in use in bin.\n",
      "2022-11-16 17:05:45.358336: I tensorflow/core/common_runtime/bfc_allocator.cc:1017] Bin (1024): \tTotal Chunks: 1, Chunks in use: 1. 1.2KiB allocated for chunks. 1.2KiB in use in bin. 1.0KiB client-requested in use in bin.\n",
      "2022-11-16 17:05:45.358361: I tensorflow/core/common_runtime/bfc_allocator.cc:1017] Bin (2048): \tTotal Chunks: 0, Chunks in use: 0. 0B allocated for chunks. 0B in use in bin. 0B client-requested in use in bin.\n",
      "2022-11-16 17:05:45.358385: I tensorflow/core/common_runtime/bfc_allocator.cc:1017] Bin (4096): \tTotal Chunks: 0, Chunks in use: 0. 0B allocated for chunks. 0B in use in bin. 0B client-requested in use in bin.\n",
      "2022-11-16 17:05:45.358409: I tensorflow/core/common_runtime/bfc_allocator.cc:1017] Bin (8192): \tTotal Chunks: 0, Chunks in use: 0. 0B allocated for chunks. 0B in use in bin. 0B client-requested in use in bin.\n",
      "2022-11-16 17:05:45.358432: I tensorflow/core/common_runtime/bfc_allocator.cc:1017] Bin (16384): \tTotal Chunks: 0, Chunks in use: 0. 0B allocated for chunks. 0B in use in bin. 0B client-requested in use in bin.\n",
      "2022-11-16 17:05:45.358455: I tensorflow/core/common_runtime/bfc_allocator.cc:1017] Bin (32768): \tTotal Chunks: 0, Chunks in use: 0. 0B allocated for chunks. 0B in use in bin. 0B client-requested in use in bin.\n",
      "2022-11-16 17:05:45.358478: I tensorflow/core/common_runtime/bfc_allocator.cc:1017] Bin (65536): \tTotal Chunks: 0, Chunks in use: 0. 0B allocated for chunks. 0B in use in bin. 0B client-requested in use in bin.\n",
      "2022-11-16 17:05:45.358540: I tensorflow/core/common_runtime/bfc_allocator.cc:1017] Bin (131072): \tTotal Chunks: 0, Chunks in use: 0. 0B allocated for chunks. 0B in use in bin. 0B client-requested in use in bin.\n",
      "2022-11-16 17:05:45.358636: I tensorflow/core/common_runtime/bfc_allocator.cc:1017] Bin (262144): \tTotal Chunks: 0, Chunks in use: 0. 0B allocated for chunks. 0B in use in bin. 0B client-requested in use in bin.\n",
      "2022-11-16 17:05:45.358681: I tensorflow/core/common_runtime/bfc_allocator.cc:1017] Bin (524288): \tTotal Chunks: 0, Chunks in use: 0. 0B allocated for chunks. 0B in use in bin. 0B client-requested in use in bin.\n",
      "2022-11-16 17:05:45.358721: I tensorflow/core/common_runtime/bfc_allocator.cc:1017] Bin (1048576): \tTotal Chunks: 0, Chunks in use: 0. 0B allocated for chunks. 0B in use in bin. 0B client-requested in use in bin.\n",
      "2022-11-16 17:05:45.358758: I tensorflow/core/common_runtime/bfc_allocator.cc:1017] Bin (2097152): \tTotal Chunks: 0, Chunks in use: 0. 0B allocated for chunks. 0B in use in bin. 0B client-requested in use in bin.\n",
      "2022-11-16 17:05:45.358795: I tensorflow/core/common_runtime/bfc_allocator.cc:1017] Bin (4194304): \tTotal Chunks: 0, Chunks in use: 0. 0B allocated for chunks. 0B in use in bin. 0B client-requested in use in bin.\n",
      "2022-11-16 17:05:45.358843: I tensorflow/core/common_runtime/bfc_allocator.cc:1017] Bin (8388608): \tTotal Chunks: 0, Chunks in use: 0. 0B allocated for chunks. 0B in use in bin. 0B client-requested in use in bin.\n",
      "2022-11-16 17:05:45.358891: I tensorflow/core/common_runtime/bfc_allocator.cc:1017] Bin (16777216): \tTotal Chunks: 167, Chunks in use: 167. 3.00GiB allocated for chunks. 3.00GiB in use in bin. 3.00GiB client-requested in use in bin.\n",
      "2022-11-16 17:05:45.358938: I tensorflow/core/common_runtime/bfc_allocator.cc:1017] Bin (33554432): \tTotal Chunks: 0, Chunks in use: 0. 0B allocated for chunks. 0B in use in bin. 0B client-requested in use in bin.\n",
      "2022-11-16 17:05:45.358978: I tensorflow/core/common_runtime/bfc_allocator.cc:1017] Bin (67108864): \tTotal Chunks: 0, Chunks in use: 0. 0B allocated for chunks. 0B in use in bin. 0B client-requested in use in bin.\n",
      "2022-11-16 17:05:45.359014: I tensorflow/core/common_runtime/bfc_allocator.cc:1017] Bin (134217728): \tTotal Chunks: 0, Chunks in use: 0. 0B allocated for chunks. 0B in use in bin. 0B client-requested in use in bin.\n",
      "2022-11-16 17:05:45.359062: I tensorflow/core/common_runtime/bfc_allocator.cc:1017] Bin (268435456): \tTotal Chunks: 0, Chunks in use: 0. 0B allocated for chunks. 0B in use in bin. 0B client-requested in use in bin.\n",
      "2022-11-16 17:05:45.359107: I tensorflow/core/common_runtime/bfc_allocator.cc:1033] Bin for 18.38MiB was 16.00MiB, Chunk State: \n",
      "2022-11-16 17:05:45.359145: I tensorflow/core/common_runtime/bfc_allocator.cc:1046] Next region of size 3221225472\n",
      "2022-11-16 17:05:45.359185: I tensorflow/core/common_runtime/bfc_allocator.cc:1066] InUse at 7f7db4000000 of size 1280 next 1\n",
      "2022-11-16 17:05:45.359218: I tensorflow/core/common_runtime/bfc_allocator.cc:1066] InUse at 7f7db4000500 of size 256 next 2\n",
      "2022-11-16 17:05:45.359247: I tensorflow/core/common_runtime/bfc_allocator.cc:1066] InUse at 7f7db4000600 of size 256 next 3\n",
      "2022-11-16 17:05:45.359278: I tensorflow/core/common_runtime/bfc_allocator.cc:1066] InUse at 7f7db4000700 of size 256 next 4\n",
      "2022-11-16 17:05:45.359309: I tensorflow/core/common_runtime/bfc_allocator.cc:1066] InUse at 7f7db4000800 of size 256 next 5\n",
      "2022-11-16 17:05:45.359338: I tensorflow/core/common_runtime/bfc_allocator.cc:1066] InUse at 7f7db4000900 of size 256 next 6\n",
      "2022-11-16 17:05:45.359366: I tensorflow/core/common_runtime/bfc_allocator.cc:1066] InUse at 7f7db4000a00 of size 256 next 7\n",
      "2022-11-16 17:05:45.359410: I tensorflow/core/common_runtime/bfc_allocator.cc:1066] InUse at 7f7db4000b00 of size 256 next 8\n",
      "2022-11-16 17:05:45.359447: I tensorflow/core/common_runtime/bfc_allocator.cc:1066] InUse at 7f7db4000c00 of size 256 next 9\n",
      "2022-11-16 17:05:45.359466: I tensorflow/core/common_runtime/bfc_allocator.cc:1066] InUse at 7f7db4000d00 of size 256 next 10\n",
      "2022-11-16 17:05:45.359485: I tensorflow/core/common_runtime/bfc_allocator.cc:1066] InUse at 7f7db4000e00 of size 19267584 next 11\n",
      "2022-11-16 17:05:45.359505: I tensorflow/core/common_runtime/bfc_allocator.cc:1066] InUse at 7f7db5260e00 of size 19267584 next 12\n",
      "2022-11-16 17:05:45.359523: I tensorflow/core/common_runtime/bfc_allocator.cc:1066] InUse at 7f7db64c0e00 of size 19267584 next 13\n",
      "2022-11-16 17:05:45.359540: I tensorflow/core/common_runtime/bfc_allocator.cc:1066] InUse at 7f7db7720e00 of size 19267584 next 14\n",
      "2022-11-16 17:05:45.359558: I tensorflow/core/common_runtime/bfc_allocator.cc:1066] InUse at 7f7db8980e00 of size 19267584 next 15\n",
      "2022-11-16 17:05:45.359575: I tensorflow/core/common_runtime/bfc_allocator.cc:1066] InUse at 7f7db9be0e00 of size 19267584 next 16\n",
      "2022-11-16 17:05:45.359592: I tensorflow/core/common_runtime/bfc_allocator.cc:1066] InUse at 7f7dbae40e00 of size 19267584 next 17\n",
      "2022-11-16 17:05:45.359609: I tensorflow/core/common_runtime/bfc_allocator.cc:1066] InUse at 7f7dbc0a0e00 of size 19267584 next 18\n",
      "2022-11-16 17:05:45.359626: I tensorflow/core/common_runtime/bfc_allocator.cc:1066] InUse at 7f7dbd300e00 of size 19267584 next 19\n",
      "2022-11-16 17:05:45.359643: I tensorflow/core/common_runtime/bfc_allocator.cc:1066] InUse at 7f7dbe560e00 of size 19267584 next 20\n",
      "2022-11-16 17:05:45.359660: I tensorflow/core/common_runtime/bfc_allocator.cc:1066] InUse at 7f7dbf7c0e00 of size 19267584 next 21\n",
      "2022-11-16 17:05:45.359677: I tensorflow/core/common_runtime/bfc_allocator.cc:1066] InUse at 7f7dc0a20e00 of size 19267584 next 22\n",
      "2022-11-16 17:05:45.359694: I tensorflow/core/common_runtime/bfc_allocator.cc:1066] InUse at 7f7dc1c80e00 of size 19267584 next 23\n",
      "2022-11-16 17:05:45.359712: I tensorflow/core/common_runtime/bfc_allocator.cc:1066] InUse at 7f7dc2ee0e00 of size 19267584 next 24\n",
      "2022-11-16 17:05:45.359729: I tensorflow/core/common_runtime/bfc_allocator.cc:1066] InUse at 7f7dc4140e00 of size 19267584 next 25\n",
      "2022-11-16 17:05:45.359746: I tensorflow/core/common_runtime/bfc_allocator.cc:1066] InUse at 7f7dc53a0e00 of size 19267584 next 26\n",
      "2022-11-16 17:05:45.359763: I tensorflow/core/common_runtime/bfc_allocator.cc:1066] InUse at 7f7dc6600e00 of size 19267584 next 27\n",
      "2022-11-16 17:05:45.359785: I tensorflow/core/common_runtime/bfc_allocator.cc:1066] InUse at 7f7dc7860e00 of size 19267584 next 28\n",
      "2022-11-16 17:05:45.359803: I tensorflow/core/common_runtime/bfc_allocator.cc:1066] InUse at 7f7dc8ac0e00 of size 19267584 next 29\n",
      "2022-11-16 17:05:45.359820: I tensorflow/core/common_runtime/bfc_allocator.cc:1066] InUse at 7f7dc9d20e00 of size 19267584 next 30\n",
      "2022-11-16 17:05:45.359837: I tensorflow/core/common_runtime/bfc_allocator.cc:1066] InUse at 7f7dcaf80e00 of size 19267584 next 31\n",
      "2022-11-16 17:05:45.359855: I tensorflow/core/common_runtime/bfc_allocator.cc:1066] InUse at 7f7dcc1e0e00 of size 19267584 next 32\n",
      "2022-11-16 17:05:45.359872: I tensorflow/core/common_runtime/bfc_allocator.cc:1066] InUse at 7f7dcd440e00 of size 19267584 next 33\n",
      "2022-11-16 17:05:45.359889: I tensorflow/core/common_runtime/bfc_allocator.cc:1066] InUse at 7f7dce6a0e00 of size 19267584 next 34\n",
      "2022-11-16 17:05:45.359907: I tensorflow/core/common_runtime/bfc_allocator.cc:1066] InUse at 7f7dcf900e00 of size 19267584 next 35\n",
      "2022-11-16 17:05:45.359924: I tensorflow/core/common_runtime/bfc_allocator.cc:1066] InUse at 7f7dd0b60e00 of size 19267584 next 36\n",
      "2022-11-16 17:05:45.359941: I tensorflow/core/common_runtime/bfc_allocator.cc:1066] InUse at 7f7dd1dc0e00 of size 19267584 next 37\n",
      "2022-11-16 17:05:45.359958: I tensorflow/core/common_runtime/bfc_allocator.cc:1066] InUse at 7f7dd3020e00 of size 19267584 next 38\n",
      "2022-11-16 17:05:45.359976: I tensorflow/core/common_runtime/bfc_allocator.cc:1066] InUse at 7f7dd4280e00 of size 19267584 next 39\n",
      "2022-11-16 17:05:45.359993: I tensorflow/core/common_runtime/bfc_allocator.cc:1066] InUse at 7f7dd54e0e00 of size 19267584 next 40\n",
      "2022-11-16 17:05:45.360010: I tensorflow/core/common_runtime/bfc_allocator.cc:1066] InUse at 7f7dd6740e00 of size 19267584 next 41\n",
      "2022-11-16 17:05:45.360031: I tensorflow/core/common_runtime/bfc_allocator.cc:1066] InUse at 7f7dd79a0e00 of size 19267584 next 42\n",
      "2022-11-16 17:05:45.360049: I tensorflow/core/common_runtime/bfc_allocator.cc:1066] InUse at 7f7dd8c00e00 of size 19267584 next 43\n",
      "2022-11-16 17:05:45.360066: I tensorflow/core/common_runtime/bfc_allocator.cc:1066] InUse at 7f7dd9e60e00 of size 19267584 next 44\n",
      "2022-11-16 17:05:45.360085: I tensorflow/core/common_runtime/bfc_allocator.cc:1066] InUse at 7f7ddb0c0e00 of size 19267584 next 45\n",
      "2022-11-16 17:05:45.360102: I tensorflow/core/common_runtime/bfc_allocator.cc:1066] InUse at 7f7ddc320e00 of size 19267584 next 46\n",
      "2022-11-16 17:05:45.360119: I tensorflow/core/common_runtime/bfc_allocator.cc:1066] InUse at 7f7ddd580e00 of size 19267584 next 47\n",
      "2022-11-16 17:05:45.360137: I tensorflow/core/common_runtime/bfc_allocator.cc:1066] InUse at 7f7dde7e0e00 of size 19267584 next 48\n",
      "2022-11-16 17:05:45.360155: I tensorflow/core/common_runtime/bfc_allocator.cc:1066] InUse at 7f7ddfa40e00 of size 19267584 next 49\n",
      "2022-11-16 17:05:45.360172: I tensorflow/core/common_runtime/bfc_allocator.cc:1066] InUse at 7f7de0ca0e00 of size 19267584 next 50\n",
      "2022-11-16 17:05:45.360190: I tensorflow/core/common_runtime/bfc_allocator.cc:1066] InUse at 7f7de1f00e00 of size 19267584 next 51\n",
      "2022-11-16 17:05:45.360207: I tensorflow/core/common_runtime/bfc_allocator.cc:1066] InUse at 7f7de3160e00 of size 19267584 next 52\n",
      "2022-11-16 17:05:45.360224: I tensorflow/core/common_runtime/bfc_allocator.cc:1066] InUse at 7f7de43c0e00 of size 19267584 next 53\n",
      "2022-11-16 17:05:45.360242: I tensorflow/core/common_runtime/bfc_allocator.cc:1066] InUse at 7f7de5620e00 of size 19267584 next 54\n",
      "2022-11-16 17:05:45.360259: I tensorflow/core/common_runtime/bfc_allocator.cc:1066] InUse at 7f7de6880e00 of size 19267584 next 55\n",
      "2022-11-16 17:05:45.360277: I tensorflow/core/common_runtime/bfc_allocator.cc:1066] InUse at 7f7de7ae0e00 of size 19267584 next 56\n",
      "2022-11-16 17:05:45.360294: I tensorflow/core/common_runtime/bfc_allocator.cc:1066] InUse at 7f7de8d40e00 of size 19267584 next 57\n",
      "2022-11-16 17:05:45.360311: I tensorflow/core/common_runtime/bfc_allocator.cc:1066] InUse at 7f7de9fa0e00 of size 19267584 next 58\n",
      "2022-11-16 17:05:45.360329: I tensorflow/core/common_runtime/bfc_allocator.cc:1066] InUse at 7f7deb200e00 of size 19267584 next 59\n",
      "2022-11-16 17:05:45.360346: I tensorflow/core/common_runtime/bfc_allocator.cc:1066] InUse at 7f7dec460e00 of size 19267584 next 60\n",
      "2022-11-16 17:05:45.360363: I tensorflow/core/common_runtime/bfc_allocator.cc:1066] InUse at 7f7ded6c0e00 of size 19267584 next 61\n",
      "2022-11-16 17:05:45.360381: I tensorflow/core/common_runtime/bfc_allocator.cc:1066] InUse at 7f7dee920e00 of size 19267584 next 62\n",
      "2022-11-16 17:05:45.360398: I tensorflow/core/common_runtime/bfc_allocator.cc:1066] InUse at 7f7defb80e00 of size 19267584 next 63\n",
      "2022-11-16 17:05:45.360416: I tensorflow/core/common_runtime/bfc_allocator.cc:1066] InUse at 7f7df0de0e00 of size 19267584 next 64\n",
      "2022-11-16 17:05:45.360433: I tensorflow/core/common_runtime/bfc_allocator.cc:1066] InUse at 7f7df2040e00 of size 19267584 next 65\n",
      "2022-11-16 17:05:45.360450: I tensorflow/core/common_runtime/bfc_allocator.cc:1066] InUse at 7f7df32a0e00 of size 19267584 next 66\n",
      "2022-11-16 17:05:45.360468: I tensorflow/core/common_runtime/bfc_allocator.cc:1066] InUse at 7f7df4500e00 of size 19267584 next 67\n",
      "2022-11-16 17:05:45.360485: I tensorflow/core/common_runtime/bfc_allocator.cc:1066] InUse at 7f7df5760e00 of size 19267584 next 68\n",
      "2022-11-16 17:05:45.360502: I tensorflow/core/common_runtime/bfc_allocator.cc:1066] InUse at 7f7df69c0e00 of size 19267584 next 69\n",
      "2022-11-16 17:05:45.360519: I tensorflow/core/common_runtime/bfc_allocator.cc:1066] InUse at 7f7df7c20e00 of size 19267584 next 70\n",
      "2022-11-16 17:05:45.360536: I tensorflow/core/common_runtime/bfc_allocator.cc:1066] InUse at 7f7df8e80e00 of size 19267584 next 71\n",
      "2022-11-16 17:05:45.360554: I tensorflow/core/common_runtime/bfc_allocator.cc:1066] InUse at 7f7dfa0e0e00 of size 19267584 next 72\n",
      "2022-11-16 17:05:45.360571: I tensorflow/core/common_runtime/bfc_allocator.cc:1066] InUse at 7f7dfb340e00 of size 19267584 next 73\n",
      "2022-11-16 17:05:45.360588: I tensorflow/core/common_runtime/bfc_allocator.cc:1066] InUse at 7f7dfc5a0e00 of size 19267584 next 74\n",
      "2022-11-16 17:05:45.360606: I tensorflow/core/common_runtime/bfc_allocator.cc:1066] InUse at 7f7dfd800e00 of size 19267584 next 75\n",
      "2022-11-16 17:05:45.360623: I tensorflow/core/common_runtime/bfc_allocator.cc:1066] InUse at 7f7dfea60e00 of size 19267584 next 76\n",
      "2022-11-16 17:05:45.360640: I tensorflow/core/common_runtime/bfc_allocator.cc:1066] InUse at 7f7dffcc0e00 of size 19267584 next 77\n",
      "2022-11-16 17:05:45.360658: I tensorflow/core/common_runtime/bfc_allocator.cc:1066] InUse at 7f7e00f20e00 of size 19267584 next 78\n",
      "2022-11-16 17:05:45.360675: I tensorflow/core/common_runtime/bfc_allocator.cc:1066] InUse at 7f7e02180e00 of size 19267584 next 79\n",
      "2022-11-16 17:05:45.360692: I tensorflow/core/common_runtime/bfc_allocator.cc:1066] InUse at 7f7e033e0e00 of size 19267584 next 80\n",
      "2022-11-16 17:05:45.360709: I tensorflow/core/common_runtime/bfc_allocator.cc:1066] InUse at 7f7e04640e00 of size 19267584 next 81\n",
      "2022-11-16 17:05:45.360726: I tensorflow/core/common_runtime/bfc_allocator.cc:1066] InUse at 7f7e058a0e00 of size 19267584 next 82\n",
      "2022-11-16 17:05:45.360743: I tensorflow/core/common_runtime/bfc_allocator.cc:1066] InUse at 7f7e06b00e00 of size 19267584 next 83\n",
      "2022-11-16 17:05:45.360760: I tensorflow/core/common_runtime/bfc_allocator.cc:1066] InUse at 7f7e07d60e00 of size 19267584 next 84\n",
      "2022-11-16 17:05:45.360778: I tensorflow/core/common_runtime/bfc_allocator.cc:1066] InUse at 7f7e08fc0e00 of size 19267584 next 85\n",
      "2022-11-16 17:05:45.360795: I tensorflow/core/common_runtime/bfc_allocator.cc:1066] InUse at 7f7e0a220e00 of size 19267584 next 86\n",
      "2022-11-16 17:05:45.360812: I tensorflow/core/common_runtime/bfc_allocator.cc:1066] InUse at 7f7e0b480e00 of size 19267584 next 87\n",
      "2022-11-16 17:05:45.360829: I tensorflow/core/common_runtime/bfc_allocator.cc:1066] InUse at 7f7e0c6e0e00 of size 19267584 next 88\n",
      "2022-11-16 17:05:45.360847: I tensorflow/core/common_runtime/bfc_allocator.cc:1066] InUse at 7f7e0d940e00 of size 19267584 next 89\n",
      "2022-11-16 17:05:45.360864: I tensorflow/core/common_runtime/bfc_allocator.cc:1066] InUse at 7f7e0eba0e00 of size 19267584 next 90\n",
      "2022-11-16 17:05:45.360881: I tensorflow/core/common_runtime/bfc_allocator.cc:1066] InUse at 7f7e0fe00e00 of size 19267584 next 91\n",
      "2022-11-16 17:05:45.360898: I tensorflow/core/common_runtime/bfc_allocator.cc:1066] InUse at 7f7e11060e00 of size 19267584 next 92\n",
      "2022-11-16 17:05:45.360915: I tensorflow/core/common_runtime/bfc_allocator.cc:1066] InUse at 7f7e122c0e00 of size 19267584 next 93\n",
      "2022-11-16 17:05:45.360933: I tensorflow/core/common_runtime/bfc_allocator.cc:1066] InUse at 7f7e13520e00 of size 19267584 next 94\n",
      "2022-11-16 17:05:45.360950: I tensorflow/core/common_runtime/bfc_allocator.cc:1066] InUse at 7f7e14780e00 of size 19267584 next 95\n",
      "2022-11-16 17:05:45.360967: I tensorflow/core/common_runtime/bfc_allocator.cc:1066] InUse at 7f7e159e0e00 of size 19267584 next 96\n",
      "2022-11-16 17:05:45.360984: I tensorflow/core/common_runtime/bfc_allocator.cc:1066] InUse at 7f7e16c40e00 of size 19267584 next 97\n",
      "2022-11-16 17:05:45.361001: I tensorflow/core/common_runtime/bfc_allocator.cc:1066] InUse at 7f7e17ea0e00 of size 19267584 next 98\n",
      "2022-11-16 17:05:45.361018: I tensorflow/core/common_runtime/bfc_allocator.cc:1066] InUse at 7f7e19100e00 of size 19267584 next 99\n",
      "2022-11-16 17:05:45.361036: I tensorflow/core/common_runtime/bfc_allocator.cc:1066] InUse at 7f7e1a360e00 of size 19267584 next 100\n",
      "2022-11-16 17:05:45.361054: I tensorflow/core/common_runtime/bfc_allocator.cc:1066] InUse at 7f7e1b5c0e00 of size 19267584 next 101\n",
      "2022-11-16 17:05:45.361071: I tensorflow/core/common_runtime/bfc_allocator.cc:1066] InUse at 7f7e1c820e00 of size 19267584 next 102\n",
      "2022-11-16 17:05:45.361088: I tensorflow/core/common_runtime/bfc_allocator.cc:1066] InUse at 7f7e1da80e00 of size 19267584 next 103\n",
      "2022-11-16 17:05:45.361105: I tensorflow/core/common_runtime/bfc_allocator.cc:1066] InUse at 7f7e1ece0e00 of size 19267584 next 104\n",
      "2022-11-16 17:05:45.361124: I tensorflow/core/common_runtime/bfc_allocator.cc:1066] InUse at 7f7e1ff40e00 of size 19267584 next 105\n",
      "2022-11-16 17:05:45.361141: I tensorflow/core/common_runtime/bfc_allocator.cc:1066] InUse at 7f7e211a0e00 of size 19267584 next 106\n",
      "2022-11-16 17:05:45.361158: I tensorflow/core/common_runtime/bfc_allocator.cc:1066] InUse at 7f7e22400e00 of size 19267584 next 107\n",
      "2022-11-16 17:05:45.361175: I tensorflow/core/common_runtime/bfc_allocator.cc:1066] InUse at 7f7e23660e00 of size 19267584 next 108\n",
      "2022-11-16 17:05:45.361193: I tensorflow/core/common_runtime/bfc_allocator.cc:1066] InUse at 7f7e248c0e00 of size 19267584 next 109\n",
      "2022-11-16 17:05:45.361210: I tensorflow/core/common_runtime/bfc_allocator.cc:1066] InUse at 7f7e25b20e00 of size 19267584 next 110\n",
      "2022-11-16 17:05:45.361227: I tensorflow/core/common_runtime/bfc_allocator.cc:1066] InUse at 7f7e26d80e00 of size 19267584 next 111\n",
      "2022-11-16 17:05:45.361245: I tensorflow/core/common_runtime/bfc_allocator.cc:1066] InUse at 7f7e27fe0e00 of size 19267584 next 112\n",
      "2022-11-16 17:05:45.361262: I tensorflow/core/common_runtime/bfc_allocator.cc:1066] InUse at 7f7e29240e00 of size 19267584 next 113\n",
      "2022-11-16 17:05:45.361279: I tensorflow/core/common_runtime/bfc_allocator.cc:1066] InUse at 7f7e2a4a0e00 of size 19267584 next 114\n",
      "2022-11-16 17:05:45.361296: I tensorflow/core/common_runtime/bfc_allocator.cc:1066] InUse at 7f7e2b700e00 of size 19267584 next 115\n",
      "2022-11-16 17:05:45.361314: I tensorflow/core/common_runtime/bfc_allocator.cc:1066] InUse at 7f7e2c960e00 of size 19267584 next 116\n",
      "2022-11-16 17:05:45.361331: I tensorflow/core/common_runtime/bfc_allocator.cc:1066] InUse at 7f7e2dbc0e00 of size 19267584 next 117\n",
      "2022-11-16 17:05:45.361348: I tensorflow/core/common_runtime/bfc_allocator.cc:1066] InUse at 7f7e2ee20e00 of size 19267584 next 118\n",
      "2022-11-16 17:05:45.361365: I tensorflow/core/common_runtime/bfc_allocator.cc:1066] InUse at 7f7e30080e00 of size 19267584 next 119\n",
      "2022-11-16 17:05:45.361383: I tensorflow/core/common_runtime/bfc_allocator.cc:1066] InUse at 7f7e312e0e00 of size 19267584 next 120\n",
      "2022-11-16 17:05:45.361400: I tensorflow/core/common_runtime/bfc_allocator.cc:1066] InUse at 7f7e32540e00 of size 19267584 next 121\n",
      "2022-11-16 17:05:45.361417: I tensorflow/core/common_runtime/bfc_allocator.cc:1066] InUse at 7f7e337a0e00 of size 19267584 next 122\n",
      "2022-11-16 17:05:45.361435: I tensorflow/core/common_runtime/bfc_allocator.cc:1066] InUse at 7f7e34a00e00 of size 19267584 next 123\n",
      "2022-11-16 17:05:45.361452: I tensorflow/core/common_runtime/bfc_allocator.cc:1066] InUse at 7f7e35c60e00 of size 19267584 next 124\n",
      "2022-11-16 17:05:45.361469: I tensorflow/core/common_runtime/bfc_allocator.cc:1066] InUse at 7f7e36ec0e00 of size 19267584 next 125\n",
      "2022-11-16 17:05:45.361487: I tensorflow/core/common_runtime/bfc_allocator.cc:1066] InUse at 7f7e38120e00 of size 19267584 next 126\n",
      "2022-11-16 17:05:45.361504: I tensorflow/core/common_runtime/bfc_allocator.cc:1066] InUse at 7f7e39380e00 of size 19267584 next 127\n",
      "2022-11-16 17:05:45.361521: I tensorflow/core/common_runtime/bfc_allocator.cc:1066] InUse at 7f7e3a5e0e00 of size 19267584 next 128\n",
      "2022-11-16 17:05:45.361538: I tensorflow/core/common_runtime/bfc_allocator.cc:1066] InUse at 7f7e3b840e00 of size 19267584 next 129\n",
      "2022-11-16 17:05:45.361555: I tensorflow/core/common_runtime/bfc_allocator.cc:1066] InUse at 7f7e3caa0e00 of size 19267584 next 130\n",
      "2022-11-16 17:05:45.361574: I tensorflow/core/common_runtime/bfc_allocator.cc:1066] InUse at 7f7e3dd00e00 of size 19267584 next 131\n",
      "2022-11-16 17:05:45.361591: I tensorflow/core/common_runtime/bfc_allocator.cc:1066] InUse at 7f7e3ef60e00 of size 19267584 next 132\n",
      "2022-11-16 17:05:45.361608: I tensorflow/core/common_runtime/bfc_allocator.cc:1066] InUse at 7f7e401c0e00 of size 19267584 next 133\n",
      "2022-11-16 17:05:45.361626: I tensorflow/core/common_runtime/bfc_allocator.cc:1066] InUse at 7f7e41420e00 of size 19267584 next 134\n",
      "2022-11-16 17:05:45.361643: I tensorflow/core/common_runtime/bfc_allocator.cc:1066] InUse at 7f7e42680e00 of size 19267584 next 135\n",
      "2022-11-16 17:05:45.361660: I tensorflow/core/common_runtime/bfc_allocator.cc:1066] InUse at 7f7e438e0e00 of size 19267584 next 136\n",
      "2022-11-16 17:05:45.361678: I tensorflow/core/common_runtime/bfc_allocator.cc:1066] InUse at 7f7e44b40e00 of size 19267584 next 137\n",
      "2022-11-16 17:05:45.361695: I tensorflow/core/common_runtime/bfc_allocator.cc:1066] InUse at 7f7e45da0e00 of size 19267584 next 138\n",
      "2022-11-16 17:05:45.361712: I tensorflow/core/common_runtime/bfc_allocator.cc:1066] InUse at 7f7e47000e00 of size 19267584 next 139\n",
      "2022-11-16 17:05:45.361730: I tensorflow/core/common_runtime/bfc_allocator.cc:1066] InUse at 7f7e48260e00 of size 19267584 next 140\n",
      "2022-11-16 17:05:45.361747: I tensorflow/core/common_runtime/bfc_allocator.cc:1066] InUse at 7f7e494c0e00 of size 19267584 next 141\n",
      "2022-11-16 17:05:45.361764: I tensorflow/core/common_runtime/bfc_allocator.cc:1066] InUse at 7f7e4a720e00 of size 19267584 next 142\n",
      "2022-11-16 17:05:45.361781: I tensorflow/core/common_runtime/bfc_allocator.cc:1066] InUse at 7f7e4b980e00 of size 19267584 next 143\n",
      "2022-11-16 17:05:45.361798: I tensorflow/core/common_runtime/bfc_allocator.cc:1066] InUse at 7f7e4cbe0e00 of size 19267584 next 144\n",
      "2022-11-16 17:05:45.361815: I tensorflow/core/common_runtime/bfc_allocator.cc:1066] InUse at 7f7e4de40e00 of size 19267584 next 145\n",
      "2022-11-16 17:05:45.361832: I tensorflow/core/common_runtime/bfc_allocator.cc:1066] InUse at 7f7e4f0a0e00 of size 19267584 next 146\n",
      "2022-11-16 17:05:45.361849: I tensorflow/core/common_runtime/bfc_allocator.cc:1066] InUse at 7f7e50300e00 of size 19267584 next 147\n",
      "2022-11-16 17:05:45.361866: I tensorflow/core/common_runtime/bfc_allocator.cc:1066] InUse at 7f7e51560e00 of size 19267584 next 148\n",
      "2022-11-16 17:05:45.361884: I tensorflow/core/common_runtime/bfc_allocator.cc:1066] InUse at 7f7e527c0e00 of size 19267584 next 149\n",
      "2022-11-16 17:05:45.361901: I tensorflow/core/common_runtime/bfc_allocator.cc:1066] InUse at 7f7e53a20e00 of size 19267584 next 150\n",
      "2022-11-16 17:05:45.361919: I tensorflow/core/common_runtime/bfc_allocator.cc:1066] InUse at 7f7e54c80e00 of size 19267584 next 151\n",
      "2022-11-16 17:05:45.361936: I tensorflow/core/common_runtime/bfc_allocator.cc:1066] InUse at 7f7e55ee0e00 of size 19267584 next 152\n",
      "2022-11-16 17:05:45.361952: I tensorflow/core/common_runtime/bfc_allocator.cc:1066] InUse at 7f7e57140e00 of size 19267584 next 153\n",
      "2022-11-16 17:05:45.361970: I tensorflow/core/common_runtime/bfc_allocator.cc:1066] InUse at 7f7e583a0e00 of size 19267584 next 154\n",
      "2022-11-16 17:05:45.361987: I tensorflow/core/common_runtime/bfc_allocator.cc:1066] InUse at 7f7e59600e00 of size 19267584 next 155\n",
      "2022-11-16 17:05:45.362004: I tensorflow/core/common_runtime/bfc_allocator.cc:1066] InUse at 7f7e5a860e00 of size 19267584 next 156\n",
      "2022-11-16 17:05:45.362022: I tensorflow/core/common_runtime/bfc_allocator.cc:1066] InUse at 7f7e5bac0e00 of size 19267584 next 157\n",
      "2022-11-16 17:05:45.362039: I tensorflow/core/common_runtime/bfc_allocator.cc:1066] InUse at 7f7e5cd20e00 of size 19267584 next 158\n",
      "2022-11-16 17:05:45.362056: I tensorflow/core/common_runtime/bfc_allocator.cc:1066] InUse at 7f7e5df80e00 of size 19267584 next 159\n",
      "2022-11-16 17:05:45.362073: I tensorflow/core/common_runtime/bfc_allocator.cc:1066] InUse at 7f7e5f1e0e00 of size 19267584 next 160\n",
      "2022-11-16 17:05:45.362090: I tensorflow/core/common_runtime/bfc_allocator.cc:1066] InUse at 7f7e60440e00 of size 19267584 next 161\n",
      "2022-11-16 17:05:45.362108: I tensorflow/core/common_runtime/bfc_allocator.cc:1066] InUse at 7f7e616a0e00 of size 19267584 next 162\n",
      "2022-11-16 17:05:45.362125: I tensorflow/core/common_runtime/bfc_allocator.cc:1066] InUse at 7f7e62900e00 of size 19267584 next 163\n",
      "2022-11-16 17:05:45.362142: I tensorflow/core/common_runtime/bfc_allocator.cc:1066] InUse at 7f7e63b60e00 of size 19267584 next 164\n",
      "2022-11-16 17:05:45.362160: I tensorflow/core/common_runtime/bfc_allocator.cc:1066] InUse at 7f7e64dc0e00 of size 19267584 next 165\n",
      "2022-11-16 17:05:45.362177: I tensorflow/core/common_runtime/bfc_allocator.cc:1066] InUse at 7f7e66020e00 of size 19267584 next 166\n",
      "2022-11-16 17:05:45.362196: I tensorflow/core/common_runtime/bfc_allocator.cc:1066] InUse at 7f7e67280e00 of size 19267584 next 167\n",
      "2022-11-16 17:05:45.362213: I tensorflow/core/common_runtime/bfc_allocator.cc:1066] InUse at 7f7e684e0e00 of size 19267584 next 168\n",
      "2022-11-16 17:05:45.362230: I tensorflow/core/common_runtime/bfc_allocator.cc:1066] InUse at 7f7e69740e00 of size 19267584 next 169\n",
      "2022-11-16 17:05:45.362248: I tensorflow/core/common_runtime/bfc_allocator.cc:1066] InUse at 7f7e6a9a0e00 of size 19267584 next 170\n",
      "2022-11-16 17:05:45.362265: I tensorflow/core/common_runtime/bfc_allocator.cc:1066] InUse at 7f7e6bc00e00 of size 19267584 next 171\n",
      "2022-11-16 17:05:45.362282: I tensorflow/core/common_runtime/bfc_allocator.cc:1066] InUse at 7f7e6ce60e00 of size 19267584 next 172\n",
      "2022-11-16 17:05:45.362299: I tensorflow/core/common_runtime/bfc_allocator.cc:1066] InUse at 7f7e6e0c0e00 of size 19267584 next 173\n",
      "2022-11-16 17:05:45.362316: I tensorflow/core/common_runtime/bfc_allocator.cc:1066] InUse at 7f7e6f320e00 of size 19267584 next 174\n",
      "2022-11-16 17:05:45.362334: I tensorflow/core/common_runtime/bfc_allocator.cc:1066] InUse at 7f7e70580e00 of size 19267584 next 175\n",
      "2022-11-16 17:05:45.362351: I tensorflow/core/common_runtime/bfc_allocator.cc:1066] InUse at 7f7e717e0e00 of size 19267584 next 176\n",
      "2022-11-16 17:05:45.362370: I tensorflow/core/common_runtime/bfc_allocator.cc:1066] InUse at 7f7e72a40e00 of size 22802944 next 18446744073709551615\n",
      "2022-11-16 17:05:45.362387: I tensorflow/core/common_runtime/bfc_allocator.cc:1071]      Summary of in-use Chunks by size: \n",
      "2022-11-16 17:05:45.362413: I tensorflow/core/common_runtime/bfc_allocator.cc:1074] 9 Chunks of size 256 totalling 2.2KiB\n",
      "2022-11-16 17:05:45.362435: I tensorflow/core/common_runtime/bfc_allocator.cc:1074] 1 Chunks of size 1280 totalling 1.2KiB\n",
      "2022-11-16 17:05:45.362456: I tensorflow/core/common_runtime/bfc_allocator.cc:1074] 166 Chunks of size 19267584 totalling 2.98GiB\n",
      "2022-11-16 17:05:45.362478: I tensorflow/core/common_runtime/bfc_allocator.cc:1074] 1 Chunks of size 22802944 totalling 21.75MiB\n",
      "2022-11-16 17:05:45.362498: I tensorflow/core/common_runtime/bfc_allocator.cc:1078] Sum Total of in-use chunks: 3.00GiB\n",
      "2022-11-16 17:05:45.362519: I tensorflow/core/common_runtime/bfc_allocator.cc:1080] total_region_allocated_bytes_: 3221225472 memory_limit_: 3221225472 available bytes: 0 curr_region_allocation_bytes_: 6442450944\n",
      "2022-11-16 17:05:45.362548: I tensorflow/core/common_runtime/bfc_allocator.cc:1086] Stats: \n",
      "Limit:                      3221225472\n",
      "InUse:                      3221225472\n",
      "MaxInUse:                   3221225472\n",
      "NumAllocs:                         180\n",
      "MaxAllocSize:                 22802944\n",
      "Reserved:                            0\n",
      "PeakReserved:                        0\n",
      "LargestFreeBlock:                    0\n",
      "\n",
      "2022-11-16 17:05:45.362613: W tensorflow/core/common_runtime/bfc_allocator.cc:474] ****************************************************************************************************\n"
     ]
    },
    {
     "ename": "InternalError",
     "evalue": "Failed copying input tensor from /job:localhost/replica:0/task:0/device:CPU:0 to /job:localhost/replica:0/task:0/device:GPU:0 in order to run StridedSlice: Dst tensor is not initialized. [Op:StridedSlice] name: strided_slice/",
     "output_type": "error",
     "traceback": [
      "\u001b[0;31m---------------------------------------------------------------------------\u001b[0m",
      "\u001b[0;31mInternalError\u001b[0m                             Traceback (most recent call last)",
      "Cell \u001b[0;32mIn [4], line 4\u001b[0m\n\u001b[1;32m      2\u001b[0m images \u001b[38;5;241m=\u001b[39m {}\n\u001b[1;32m      3\u001b[0m \u001b[38;5;28;01mfor\u001b[39;00m _images, _labels \u001b[38;5;129;01min\u001b[39;00m dataset:\n\u001b[0;32m----> 4\u001b[0m     \u001b[38;5;28;01mfor\u001b[39;00m image, label \u001b[38;5;129;01min\u001b[39;00m \u001b[38;5;28mzip\u001b[39m(_images, _labels):\n\u001b[1;32m      5\u001b[0m         label \u001b[38;5;241m=\u001b[39m \u001b[38;5;28mint\u001b[39m(label)\n\u001b[1;32m      6\u001b[0m         labels[label] \u001b[38;5;241m+\u001b[39m\u001b[38;5;241m=\u001b[39m \u001b[38;5;241m1\u001b[39m  \n",
      "File \u001b[0;32m~/anaconda3/envs/mc886-pf/lib/python3.8/site-packages/tensorflow/python/framework/ops.py:7298\u001b[0m, in \u001b[0;36m_TensorIterator.__next__\u001b[0;34m(self)\u001b[0m\n\u001b[1;32m   7296\u001b[0m \u001b[38;5;28;01mif\u001b[39;00m \u001b[38;5;28mself\u001b[39m\u001b[38;5;241m.\u001b[39m_index \u001b[38;5;241m==\u001b[39m \u001b[38;5;28mself\u001b[39m\u001b[38;5;241m.\u001b[39m_limit:\n\u001b[1;32m   7297\u001b[0m   \u001b[38;5;28;01mraise\u001b[39;00m \u001b[38;5;167;01mStopIteration\u001b[39;00m\n\u001b[0;32m-> 7298\u001b[0m result \u001b[38;5;241m=\u001b[39m \u001b[38;5;28;43mself\u001b[39;49m\u001b[38;5;241;43m.\u001b[39;49m\u001b[43m_tensor\u001b[49m\u001b[43m[\u001b[49m\u001b[38;5;28;43mself\u001b[39;49m\u001b[38;5;241;43m.\u001b[39;49m\u001b[43m_index\u001b[49m\u001b[43m]\u001b[49m\n\u001b[1;32m   7299\u001b[0m \u001b[38;5;28mself\u001b[39m\u001b[38;5;241m.\u001b[39m_index \u001b[38;5;241m+\u001b[39m\u001b[38;5;241m=\u001b[39m \u001b[38;5;241m1\u001b[39m\n\u001b[1;32m   7300\u001b[0m \u001b[38;5;28;01mreturn\u001b[39;00m result\n",
      "File \u001b[0;32m~/anaconda3/envs/mc886-pf/lib/python3.8/site-packages/tensorflow/python/util/traceback_utils.py:153\u001b[0m, in \u001b[0;36mfilter_traceback.<locals>.error_handler\u001b[0;34m(*args, **kwargs)\u001b[0m\n\u001b[1;32m    151\u001b[0m \u001b[38;5;28;01mexcept\u001b[39;00m \u001b[38;5;167;01mException\u001b[39;00m \u001b[38;5;28;01mas\u001b[39;00m e:\n\u001b[1;32m    152\u001b[0m   filtered_tb \u001b[38;5;241m=\u001b[39m _process_traceback_frames(e\u001b[38;5;241m.\u001b[39m__traceback__)\n\u001b[0;32m--> 153\u001b[0m   \u001b[38;5;28;01mraise\u001b[39;00m e\u001b[38;5;241m.\u001b[39mwith_traceback(filtered_tb) \u001b[38;5;28;01mfrom\u001b[39;00m \u001b[38;5;28mNone\u001b[39m\n\u001b[1;32m    154\u001b[0m \u001b[38;5;28;01mfinally\u001b[39;00m:\n\u001b[1;32m    155\u001b[0m   \u001b[38;5;28;01mdel\u001b[39;00m filtered_tb\n",
      "File \u001b[0;32m~/anaconda3/envs/mc886-pf/lib/python3.8/site-packages/tensorflow/python/framework/ops.py:7186\u001b[0m, in \u001b[0;36mraise_from_not_ok_status\u001b[0;34m(e, name)\u001b[0m\n\u001b[1;32m   7184\u001b[0m \u001b[38;5;28;01mdef\u001b[39;00m \u001b[38;5;21mraise_from_not_ok_status\u001b[39m(e, name):\n\u001b[1;32m   7185\u001b[0m   e\u001b[38;5;241m.\u001b[39mmessage \u001b[38;5;241m+\u001b[39m\u001b[38;5;241m=\u001b[39m (\u001b[38;5;124m\"\u001b[39m\u001b[38;5;124m name: \u001b[39m\u001b[38;5;124m\"\u001b[39m \u001b[38;5;241m+\u001b[39m name \u001b[38;5;28;01mif\u001b[39;00m name \u001b[38;5;129;01mis\u001b[39;00m \u001b[38;5;129;01mnot\u001b[39;00m \u001b[38;5;28;01mNone\u001b[39;00m \u001b[38;5;28;01melse\u001b[39;00m \u001b[38;5;124m\"\u001b[39m\u001b[38;5;124m\"\u001b[39m)\n\u001b[0;32m-> 7186\u001b[0m   \u001b[38;5;28;01mraise\u001b[39;00m core\u001b[38;5;241m.\u001b[39m_status_to_exception(e) \u001b[38;5;28;01mfrom\u001b[39;00m \u001b[38;5;28mNone\u001b[39m\n",
      "\u001b[0;31mInternalError\u001b[0m: Failed copying input tensor from /job:localhost/replica:0/task:0/device:CPU:0 to /job:localhost/replica:0/task:0/device:GPU:0 in order to run StridedSlice: Dst tensor is not initialized. [Op:StridedSlice] name: strided_slice/"
     ]
    }
   ],
   "source": [
    "labels = 8*[0]\n",
    "images = {}\n",
    "for _images, _labels in dataset:\n",
    "    for image, label in zip(_images, _labels):\n",
    "        label = int(label)\n",
    "        labels[label] += 1  \n",
    "        if ( label in images ):\n",
    "            images[label].append(image)\n",
    "        else:\n",
    "            images[label] = []\n",
    "            images[label].append(image)\n",
    "class_names = dataset.class_names\n",
    "print(' '.join( ['{:<12}'.format(el) for el in class_names] ))\n",
    "print(' '.join( ['{:<12}'.format(el) for el in labels] ))"
   ]
  },
  {
   "cell_type": "code",
   "execution_count": null,
   "metadata": {
    "colab": {
     "base_uri": "https://localhost:8080/",
     "height": 545
    },
    "executionInfo": {
     "elapsed": 5568,
     "status": "ok",
     "timestamp": 1635351019650,
     "user": {
      "displayName": "Alexandre Monteiro Ribeiro",
      "photoUrl": "https://lh3.googleusercontent.com/a/default-user=s64",
      "userId": "08485424852861072640"
     },
     "user_tz": 180
    },
    "id": "tTFxIdwLdXsN",
    "outputId": "232c3c45-b478-4f23-dbb5-6895eab110ba"
   },
   "outputs": [],
   "source": [
    "# for label in Images:\n",
    "#     images = Images[label]\n",
    "#     class_name = class_names[label]\n",
    "#     f, axs = plt.subplots(2, 10, figsize=(25, 4))\n",
    "#     axs = axs.reshape(-1)\n",
    "#     f.suptitle(class_name.upper())\n",
    "#     for i, image in enumerate(images):\n",
    "#         ax = plt.subplot(2, 10, i + 1)\n",
    "#         axs[i].imshow(image.numpy().astype(\"uint8\"), cmap='gray')\n",
    "#         #axs[i].suptitle(class_names[label], y=-0.20)\n",
    "#         axs[i].axis(\"off\")    "
   ]
  },
  {
   "cell_type": "code",
   "execution_count": null,
   "metadata": {
    "executionInfo": {
     "elapsed": 4,
     "status": "ok",
     "timestamp": 1635351019651,
     "user": {
      "displayName": "Alexandre Monteiro Ribeiro",
      "photoUrl": "https://lh3.googleusercontent.com/a/default-user=s64",
      "userId": "08485424852861072640"
     },
     "user_tz": 180
    },
    "id": "JiYDr9cFdi9V"
   },
   "outputs": [],
   "source": [
    "AUTOTUNE = tf.data.AUTOTUNE\n",
    "\n",
    "dataset = dataset.prefetch(buffer_size=AUTOTUNE)\n",
    "\n",
    "# Use data augmentation\n",
    "ZOOM = (0.0, -0.2)\n",
    "data_augmentation = tf.keras.Sequential(\n",
    "    [\n",
    "          tf.keras.layers.experimental.preprocessing.RandomFlip(\"horizontal\")\n",
    "        , tf.keras.layers.experimental.preprocessing.RandomRotation(factor=0.05, fill_mode='nearest')\n",
    "        , tf.keras.layers.experimental.preprocessing.RandomZoom(height_factor=ZOOM, width_factor=ZOOM)\n",
    "    ]\n",
    ")"
   ]
  },
  {
   "cell_type": "code",
   "execution_count": null,
   "metadata": {},
   "outputs": [],
   "source": [
    "import pathlib\n",
    "\n",
    "classNames  = ['anger', 'contempt', 'disgust', 'fear', 'happiness', 'neutrality', 'sadness', 'surprise']\n",
    "root = 'dataset_augmented'\n",
    "pathlib.Path(root).mkdir(exist_ok=True)\n",
    "for class_name in class_names:\n",
    "  pathlib.Path(f'{root}/{class_name}').mkdir(exist_ok=True)\n",
    "\n",
    "images_max  = max(Labels)\n",
    "images_left = [images_max - qty for qty in Labels]"
   ]
  },
  {
   "cell_type": "code",
   "execution_count": null,
   "metadata": {},
   "outputs": [],
   "source": [
    "while any(images_left): \n",
    "  for images, labels in dataset:\n",
    "    if any(images_left):\n",
    "      for image, label in zip(images, labels):\n",
    "        if images_left[label]:\n",
    "          images_left[label] -= 1\n",
    "          augmented_image = data_augmentation(tf.expand_dims(image, 0))\n",
    "          formatted_image = augmented_image[0].numpy()\n",
    "          tf.keras.utils.save_img(f'{root}/{classNames[label]}/augmented_{images_left[label]}.jpg', formatted_image)\n",
    "          plt.imshow(formatted_image.squeeze(), cmap='gray')\n",
    "    else:\n",
    "      break\n",
    "\n",
    "# import shutil\n",
    "# shutil.make_archive(f'{root}', 'zip', root)\n"
   ]
  },
  {
   "cell_type": "code",
   "execution_count": null,
   "metadata": {},
   "outputs": [],
   "source": []
  }
 ],
 "metadata": {
  "accelerator": "GPU",
  "colab": {
   "collapsed_sections": [],
   "name": "transfer_learning_v3small.ipynb",
   "provenance": [
    {
     "file_id": "https://github.com/tensorflow/docs/blob/master/site/en/tutorials/images/transfer_learning.ipynb",
     "timestamp": 1619802747894
    }
   ]
  },
  "kernelspec": {
   "display_name": "Python 3 (ipykernel)",
   "language": "python",
   "name": "python3"
  },
  "language_info": {
   "codemirror_mode": {
    "name": "ipython",
    "version": 3
   },
   "file_extension": ".py",
   "mimetype": "text/x-python",
   "name": "python",
   "nbconvert_exporter": "python",
   "pygments_lexer": "ipython3",
   "version": "3.8.13"
  }
 },
 "nbformat": 4,
 "nbformat_minor": 4
}
